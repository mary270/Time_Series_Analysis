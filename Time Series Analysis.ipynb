{
  "nbformat": 4,
  "nbformat_minor": 0,
  "metadata": {
    "colab": {
      "name": "Untitled7.ipynb",
      "provenance": []
    },
    "kernelspec": {
      "name": "python3",
      "display_name": "Python 3"
    },
    "language_info": {
      "name": "python"
    }
  },
  "cells": [
    {
      "cell_type": "code",
      "metadata": {
        "id": "vMLU4tllPHwS"
      },
      "source": [
        "import pandas as pd\n",
        "import numpy as np"
      ],
      "execution_count": 1,
      "outputs": []
    },
    {
      "cell_type": "code",
      "metadata": {
        "colab": {
          "base_uri": "https://localhost:8080/"
        },
        "id": "oDgb63UuPQxT",
        "outputId": "0414b04f-7a79-4262-f06f-7b147d70a4de"
      },
      "source": [
        "import pandas as pd\n",
        "import io\n",
        "\n",
        "df = pd.read_csv(io.BytesIO(uploaded['BAJFINANCE.csv']))\n",
        "print(df)\n"
      ],
      "execution_count": 6,
      "outputs": [
        {
          "output_type": "stream",
          "name": "stdout",
          "text": [
            "            Date      Symbol Series  ...    Trades  Deliverable Volume  %Deliverble\n",
            "0     2000-01-03  BAJAUTOFIN     EQ  ...       NaN                 NaN          NaN\n",
            "1     2000-01-04  BAJAUTOFIN     EQ  ...       NaN                 NaN          NaN\n",
            "2     2000-01-05  BAJAUTOFIN     EQ  ...       NaN                 NaN          NaN\n",
            "3     2000-01-06  BAJAUTOFIN     EQ  ...       NaN                 NaN          NaN\n",
            "4     2000-01-07  BAJAUTOFIN     EQ  ...       NaN                 NaN          NaN\n",
            "...          ...         ...    ...  ...       ...                 ...          ...\n",
            "5065  2020-08-25  BAJFINANCE     EQ  ...  339815.0           1498309.0       0.1520\n",
            "5066  2020-08-26  BAJFINANCE     EQ  ...  213994.0            944373.0       0.1417\n",
            "5067  2020-08-27  BAJFINANCE     EQ  ...  162374.0            387513.0       0.0840\n",
            "5068  2020-08-28  BAJFINANCE     EQ  ...  137033.0            434147.0       0.1021\n",
            "5069  2020-08-31  BAJFINANCE     EQ  ...  293454.0           1321559.0       0.1549\n",
            "\n",
            "[5070 rows x 15 columns]\n"
          ]
        }
      ]
    },
    {
      "cell_type": "code",
      "metadata": {
        "colab": {
          "base_uri": "https://localhost:8080/",
          "height": 326
        },
        "id": "iJOMzXZoPQ0O",
        "outputId": "2c147789-c7ae-49e6-82ae-b23a3225d2a9"
      },
      "source": [
        "df.head()"
      ],
      "execution_count": 7,
      "outputs": [
        {
          "output_type": "execute_result",
          "data": {
            "text/html": [
              "<div>\n",
              "<style scoped>\n",
              "    .dataframe tbody tr th:only-of-type {\n",
              "        vertical-align: middle;\n",
              "    }\n",
              "\n",
              "    .dataframe tbody tr th {\n",
              "        vertical-align: top;\n",
              "    }\n",
              "\n",
              "    .dataframe thead th {\n",
              "        text-align: right;\n",
              "    }\n",
              "</style>\n",
              "<table border=\"1\" class=\"dataframe\">\n",
              "  <thead>\n",
              "    <tr style=\"text-align: right;\">\n",
              "      <th></th>\n",
              "      <th>Date</th>\n",
              "      <th>Symbol</th>\n",
              "      <th>Series</th>\n",
              "      <th>Prev Close</th>\n",
              "      <th>Open</th>\n",
              "      <th>High</th>\n",
              "      <th>Low</th>\n",
              "      <th>Last</th>\n",
              "      <th>Close</th>\n",
              "      <th>VWAP</th>\n",
              "      <th>Volume</th>\n",
              "      <th>Turnover</th>\n",
              "      <th>Trades</th>\n",
              "      <th>Deliverable Volume</th>\n",
              "      <th>%Deliverble</th>\n",
              "    </tr>\n",
              "  </thead>\n",
              "  <tbody>\n",
              "    <tr>\n",
              "      <th>0</th>\n",
              "      <td>2000-01-03</td>\n",
              "      <td>BAJAUTOFIN</td>\n",
              "      <td>EQ</td>\n",
              "      <td>46.95</td>\n",
              "      <td>49.45</td>\n",
              "      <td>50.75</td>\n",
              "      <td>46.5</td>\n",
              "      <td>50.75</td>\n",
              "      <td>50.75</td>\n",
              "      <td>50.05</td>\n",
              "      <td>7600</td>\n",
              "      <td>3.803800e+10</td>\n",
              "      <td>NaN</td>\n",
              "      <td>NaN</td>\n",
              "      <td>NaN</td>\n",
              "    </tr>\n",
              "    <tr>\n",
              "      <th>1</th>\n",
              "      <td>2000-01-04</td>\n",
              "      <td>BAJAUTOFIN</td>\n",
              "      <td>EQ</td>\n",
              "      <td>50.75</td>\n",
              "      <td>53.20</td>\n",
              "      <td>53.20</td>\n",
              "      <td>47.9</td>\n",
              "      <td>48.00</td>\n",
              "      <td>48.10</td>\n",
              "      <td>48.56</td>\n",
              "      <td>5000</td>\n",
              "      <td>2.428000e+10</td>\n",
              "      <td>NaN</td>\n",
              "      <td>NaN</td>\n",
              "      <td>NaN</td>\n",
              "    </tr>\n",
              "    <tr>\n",
              "      <th>2</th>\n",
              "      <td>2000-01-05</td>\n",
              "      <td>BAJAUTOFIN</td>\n",
              "      <td>EQ</td>\n",
              "      <td>48.10</td>\n",
              "      <td>46.55</td>\n",
              "      <td>47.40</td>\n",
              "      <td>44.6</td>\n",
              "      <td>44.60</td>\n",
              "      <td>44.60</td>\n",
              "      <td>45.47</td>\n",
              "      <td>3500</td>\n",
              "      <td>1.591450e+10</td>\n",
              "      <td>NaN</td>\n",
              "      <td>NaN</td>\n",
              "      <td>NaN</td>\n",
              "    </tr>\n",
              "    <tr>\n",
              "      <th>3</th>\n",
              "      <td>2000-01-06</td>\n",
              "      <td>BAJAUTOFIN</td>\n",
              "      <td>EQ</td>\n",
              "      <td>44.60</td>\n",
              "      <td>43.50</td>\n",
              "      <td>46.00</td>\n",
              "      <td>42.1</td>\n",
              "      <td>46.00</td>\n",
              "      <td>45.25</td>\n",
              "      <td>44.43</td>\n",
              "      <td>6200</td>\n",
              "      <td>2.754750e+10</td>\n",
              "      <td>NaN</td>\n",
              "      <td>NaN</td>\n",
              "      <td>NaN</td>\n",
              "    </tr>\n",
              "    <tr>\n",
              "      <th>4</th>\n",
              "      <td>2000-01-07</td>\n",
              "      <td>BAJAUTOFIN</td>\n",
              "      <td>EQ</td>\n",
              "      <td>45.25</td>\n",
              "      <td>48.00</td>\n",
              "      <td>48.00</td>\n",
              "      <td>42.0</td>\n",
              "      <td>42.90</td>\n",
              "      <td>42.90</td>\n",
              "      <td>44.44</td>\n",
              "      <td>3500</td>\n",
              "      <td>1.555550e+10</td>\n",
              "      <td>NaN</td>\n",
              "      <td>NaN</td>\n",
              "      <td>NaN</td>\n",
              "    </tr>\n",
              "  </tbody>\n",
              "</table>\n",
              "</div>"
            ],
            "text/plain": [
              "         Date      Symbol Series  ...  Trades  Deliverable Volume  %Deliverble\n",
              "0  2000-01-03  BAJAUTOFIN     EQ  ...     NaN                 NaN          NaN\n",
              "1  2000-01-04  BAJAUTOFIN     EQ  ...     NaN                 NaN          NaN\n",
              "2  2000-01-05  BAJAUTOFIN     EQ  ...     NaN                 NaN          NaN\n",
              "3  2000-01-06  BAJAUTOFIN     EQ  ...     NaN                 NaN          NaN\n",
              "4  2000-01-07  BAJAUTOFIN     EQ  ...     NaN                 NaN          NaN\n",
              "\n",
              "[5 rows x 15 columns]"
            ]
          },
          "metadata": {},
          "execution_count": 7
        }
      ]
    },
    {
      "cell_type": "code",
      "metadata": {
        "id": "5KZyEBebPQ28"
      },
      "source": [
        "df.set_index('Date',inplace=True)"
      ],
      "execution_count": 10,
      "outputs": []
    },
    {
      "cell_type": "code",
      "metadata": {
        "colab": {
          "base_uri": "https://localhost:8080/",
          "height": 299
        },
        "id": "thcsXIb1PQ6m",
        "outputId": "d81503b6-c755-4ab9-aa05-74eb16d192da"
      },
      "source": [
        "df['VWAP'].plot()\n"
      ],
      "execution_count": 11,
      "outputs": [
        {
          "output_type": "execute_result",
          "data": {
            "text/plain": [
              "<matplotlib.axes._subplots.AxesSubplot at 0x7f65cf05a8d0>"
            ]
          },
          "metadata": {},
          "execution_count": 11
        },
        {
          "output_type": "display_data",
          "data": {
            "image/png": "[encoded data removed]",
            "text/plain": [
              "<Figure size 432x288 with 1 Axes>"
            ]
          },
          "metadata": {
            "needs_background": "light"
          }
        }
      ]
    },
    {
      "cell_type": "code",
      "metadata": {
        "colab": {
          "base_uri": "https://localhost:8080/"
        },
        "id": "5GWE3m1FR4pF",
        "outputId": "bfecafef-1390-4db8-ea47-bf35897944cf"
      },
      "source": [
        "df.isna().sum()"
      ],
      "execution_count": 12,
      "outputs": [
        {
          "output_type": "execute_result",
          "data": {
            "text/plain": [
              "Symbol                   0\n",
              "Series                   0\n",
              "Prev Close               0\n",
              "Open                     0\n",
              "High                     0\n",
              "Low                      0\n",
              "Last                     0\n",
              "Close                    0\n",
              "VWAP                     0\n",
              "Volume                   0\n",
              "Turnover                 0\n",
              "Trades                2779\n",
              "Deliverable Volume     446\n",
              "%Deliverble            446\n",
              "dtype: int64"
            ]
          },
          "metadata": {},
          "execution_count": 12
        }
      ]
    },
    {
      "cell_type": "code",
      "metadata": {
        "id": "_jnuO713R4rv"
      },
      "source": [
        "df.dropna(inplace=True)"
      ],
      "execution_count": 13,
      "outputs": []
    },
    {
      "cell_type": "code",
      "metadata": {
        "colab": {
          "base_uri": "https://localhost:8080/"
        },
        "id": "gcQaZPDcR4uO",
        "outputId": "8e1e8a3c-6ba7-4bb4-9c05-40d53649269b"
      },
      "source": [
        "df.isna().sum()"
      ],
      "execution_count": 14,
      "outputs": [
        {
          "output_type": "execute_result",
          "data": {
            "text/plain": [
              "Symbol                0\n",
              "Series                0\n",
              "Prev Close            0\n",
              "Open                  0\n",
              "High                  0\n",
              "Low                   0\n",
              "Last                  0\n",
              "Close                 0\n",
              "VWAP                  0\n",
              "Volume                0\n",
              "Turnover              0\n",
              "Trades                0\n",
              "Deliverable Volume    0\n",
              "%Deliverble           0\n",
              "dtype: int64"
            ]
          },
          "metadata": {},
          "execution_count": 14
        }
      ]
    },
    {
      "cell_type": "code",
      "metadata": {
        "id": "11WxYJ-qR4xK"
      },
      "source": [
        "data=df.copy()"
      ],
      "execution_count": 15,
      "outputs": []
    },
    {
      "cell_type": "code",
      "metadata": {
        "colab": {
          "base_uri": "https://localhost:8080/"
        },
        "id": "kTHZtvA7R40i",
        "outputId": "8c9618a9-31b4-4359-ca1c-67f148373345"
      },
      "source": [
        "data.dtypes"
      ],
      "execution_count": 16,
      "outputs": [
        {
          "output_type": "execute_result",
          "data": {
            "text/plain": [
              "Symbol                 object\n",
              "Series                 object\n",
              "Prev Close            float64\n",
              "Open                  float64\n",
              "High                  float64\n",
              "Low                   float64\n",
              "Last                  float64\n",
              "Close                 float64\n",
              "VWAP                  float64\n",
              "Volume                  int64\n",
              "Turnover              float64\n",
              "Trades                float64\n",
              "Deliverable Volume    float64\n",
              "%Deliverble           float64\n",
              "dtype: object"
            ]
          },
          "metadata": {},
          "execution_count": 16
        }
      ]
    },
    {
      "cell_type": "code",
      "metadata": {
        "id": "mncuFdp5STOp"
      },
      "source": [
        ""
      ],
      "execution_count": null,
      "outputs": []
    },
    {
      "cell_type": "code",
      "metadata": {
        "colab": {
          "base_uri": "https://localhost:8080/"
        },
        "id": "mKAlRa0aSTRV",
        "outputId": "21772dbd-69b0-49fc-884f-7ae157035794"
      },
      "source": [
        "data.columns"
      ],
      "execution_count": 17,
      "outputs": [
        {
          "output_type": "execute_result",
          "data": {
            "text/plain": [
              "Index(['Symbol', 'Series', 'Prev Close', 'Open', 'High', 'Low', 'Last',\n",
              "       'Close', 'VWAP', 'Volume', 'Turnover', 'Trades', 'Deliverable Volume',\n",
              "       '%Deliverble'],\n",
              "      dtype='object')"
            ]
          },
          "metadata": {},
          "execution_count": 17
        }
      ]
    },
    {
      "cell_type": "code",
      "metadata": {
        "id": "bwPR0boZSTUI"
      },
      "source": [
        "lag_features=['High','Low','Volume','Turnover','Trades']\n",
        "window1=3\n",
        "window2=7"
      ],
      "execution_count": 18,
      "outputs": []
    },
    {
      "cell_type": "code",
      "metadata": {
        "id": "G0iIqdxVSTW1"
      },
      "source": [
        "for feature in lag_features:\n",
        "    data[feature+'rolling_mean_3']=data[feature].rolling(window=window1).mean()\n",
        "    data[feature+'rolling_mean_7']=data[feature].rolling(window=window2).mean()"
      ],
      "execution_count": 19,
      "outputs": []
    },
    {
      "cell_type": "code",
      "metadata": {
        "id": "VZ-z63SJSTZg"
      },
      "source": [
        "for feature in lag_features:\n",
        "    data[feature+'rolling_std_3']=data[feature].rolling(window=window1).std()\n",
        "    data[feature+'rolling_std_7']=data[feature].rolling(window=window2).std()"
      ],
      "execution_count": 20,
      "outputs": []
    },
    {
      "cell_type": "code",
      "metadata": {
        "colab": {
          "base_uri": "https://localhost:8080/",
          "height": 442
        },
        "id": "-HLYyVT5STcc",
        "outputId": "024641af-955a-4270-b1a0-369f6fd37140"
      },
      "source": [
        "data.head()"
      ],
      "execution_count": 21,
      "outputs": [
        {
          "output_type": "execute_result",
          "data": {
            "text/html": [
              "<div>\n",
              "<style scoped>\n",
              "    .dataframe tbody tr th:only-of-type {\n",
              "        vertical-align: middle;\n",
              "    }\n",
              "\n",
              "    .dataframe tbody tr th {\n",
              "        vertical-align: top;\n",
              "    }\n",
              "\n",
              "    .dataframe thead th {\n",
              "        text-align: right;\n",
              "    }\n",
              "</style>\n",
              "<table border=\"1\" class=\"dataframe\">\n",
              "  <thead>\n",
              "    <tr style=\"text-align: right;\">\n",
              "      <th></th>\n",
              "      <th>Symbol</th>\n",
              "      <th>Series</th>\n",
              "      <th>Prev Close</th>\n",
              "      <th>Open</th>\n",
              "      <th>High</th>\n",
              "      <th>Low</th>\n",
              "      <th>Last</th>\n",
              "      <th>Close</th>\n",
              "      <th>VWAP</th>\n",
              "      <th>Volume</th>\n",
              "      <th>Turnover</th>\n",
              "      <th>Trades</th>\n",
              "      <th>Deliverable Volume</th>\n",
              "      <th>%Deliverble</th>\n",
              "      <th>Highrolling_mean_3</th>\n",
              "      <th>Highrolling_mean_7</th>\n",
              "      <th>Lowrolling_mean_3</th>\n",
              "      <th>Lowrolling_mean_7</th>\n",
              "      <th>Volumerolling_mean_3</th>\n",
              "      <th>Volumerolling_mean_7</th>\n",
              "      <th>Turnoverrolling_mean_3</th>\n",
              "      <th>Turnoverrolling_mean_7</th>\n",
              "      <th>Tradesrolling_mean_3</th>\n",
              "      <th>Tradesrolling_mean_7</th>\n",
              "      <th>Highrolling_std_3</th>\n",
              "      <th>Highrolling_std_7</th>\n",
              "      <th>Lowrolling_std_3</th>\n",
              "      <th>Lowrolling_std_7</th>\n",
              "      <th>Volumerolling_std_3</th>\n",
              "      <th>Volumerolling_std_7</th>\n",
              "      <th>Turnoverrolling_std_3</th>\n",
              "      <th>Turnoverrolling_std_7</th>\n",
              "      <th>Tradesrolling_std_3</th>\n",
              "      <th>Tradesrolling_std_7</th>\n",
              "    </tr>\n",
              "    <tr>\n",
              "      <th>Date</th>\n",
              "      <th></th>\n",
              "      <th></th>\n",
              "      <th></th>\n",
              "      <th></th>\n",
              "      <th></th>\n",
              "      <th></th>\n",
              "      <th></th>\n",
              "      <th></th>\n",
              "      <th></th>\n",
              "      <th></th>\n",
              "      <th></th>\n",
              "      <th></th>\n",
              "      <th></th>\n",
              "      <th></th>\n",
              "      <th></th>\n",
              "      <th></th>\n",
              "      <th></th>\n",
              "      <th></th>\n",
              "      <th></th>\n",
              "      <th></th>\n",
              "      <th></th>\n",
              "      <th></th>\n",
              "      <th></th>\n",
              "      <th></th>\n",
              "      <th></th>\n",
              "      <th></th>\n",
              "      <th></th>\n",
              "      <th></th>\n",
              "      <th></th>\n",
              "      <th></th>\n",
              "      <th></th>\n",
              "      <th></th>\n",
              "      <th></th>\n",
              "      <th></th>\n",
              "    </tr>\n",
              "  </thead>\n",
              "  <tbody>\n",
              "    <tr>\n",
              "      <th>2011-06-01</th>\n",
              "      <td>BAJFINANCE</td>\n",
              "      <td>EQ</td>\n",
              "      <td>616.70</td>\n",
              "      <td>617.00</td>\n",
              "      <td>636.50</td>\n",
              "      <td>616.00</td>\n",
              "      <td>627.00</td>\n",
              "      <td>631.85</td>\n",
              "      <td>627.01</td>\n",
              "      <td>6894</td>\n",
              "      <td>4.322621e+11</td>\n",
              "      <td>1416.0</td>\n",
              "      <td>3427.0</td>\n",
              "      <td>0.4971</td>\n",
              "      <td>NaN</td>\n",
              "      <td>NaN</td>\n",
              "      <td>NaN</td>\n",
              "      <td>NaN</td>\n",
              "      <td>NaN</td>\n",
              "      <td>NaN</td>\n",
              "      <td>NaN</td>\n",
              "      <td>NaN</td>\n",
              "      <td>NaN</td>\n",
              "      <td>NaN</td>\n",
              "      <td>NaN</td>\n",
              "      <td>NaN</td>\n",
              "      <td>NaN</td>\n",
              "      <td>NaN</td>\n",
              "      <td>NaN</td>\n",
              "      <td>NaN</td>\n",
              "      <td>NaN</td>\n",
              "      <td>NaN</td>\n",
              "      <td>NaN</td>\n",
              "      <td>NaN</td>\n",
              "    </tr>\n",
              "    <tr>\n",
              "      <th>2011-06-02</th>\n",
              "      <td>BAJFINANCE</td>\n",
              "      <td>EQ</td>\n",
              "      <td>631.85</td>\n",
              "      <td>625.00</td>\n",
              "      <td>638.90</td>\n",
              "      <td>620.00</td>\n",
              "      <td>634.00</td>\n",
              "      <td>633.45</td>\n",
              "      <td>636.04</td>\n",
              "      <td>2769</td>\n",
              "      <td>1.761205e+11</td>\n",
              "      <td>432.0</td>\n",
              "      <td>1718.0</td>\n",
              "      <td>0.6204</td>\n",
              "      <td>NaN</td>\n",
              "      <td>NaN</td>\n",
              "      <td>NaN</td>\n",
              "      <td>NaN</td>\n",
              "      <td>NaN</td>\n",
              "      <td>NaN</td>\n",
              "      <td>NaN</td>\n",
              "      <td>NaN</td>\n",
              "      <td>NaN</td>\n",
              "      <td>NaN</td>\n",
              "      <td>NaN</td>\n",
              "      <td>NaN</td>\n",
              "      <td>NaN</td>\n",
              "      <td>NaN</td>\n",
              "      <td>NaN</td>\n",
              "      <td>NaN</td>\n",
              "      <td>NaN</td>\n",
              "      <td>NaN</td>\n",
              "      <td>NaN</td>\n",
              "      <td>NaN</td>\n",
              "    </tr>\n",
              "    <tr>\n",
              "      <th>2011-06-03</th>\n",
              "      <td>BAJFINANCE</td>\n",
              "      <td>EQ</td>\n",
              "      <td>633.45</td>\n",
              "      <td>625.15</td>\n",
              "      <td>637.80</td>\n",
              "      <td>620.00</td>\n",
              "      <td>623.00</td>\n",
              "      <td>625.00</td>\n",
              "      <td>625.09</td>\n",
              "      <td>51427</td>\n",
              "      <td>3.214631e+12</td>\n",
              "      <td>135.0</td>\n",
              "      <td>50912.0</td>\n",
              "      <td>0.9900</td>\n",
              "      <td>637.733333</td>\n",
              "      <td>NaN</td>\n",
              "      <td>618.666667</td>\n",
              "      <td>NaN</td>\n",
              "      <td>20363.333333</td>\n",
              "      <td>NaN</td>\n",
              "      <td>1.274338e+12</td>\n",
              "      <td>NaN</td>\n",
              "      <td>661.000000</td>\n",
              "      <td>NaN</td>\n",
              "      <td>1.201388</td>\n",
              "      <td>NaN</td>\n",
              "      <td>2.309401</td>\n",
              "      <td>NaN</td>\n",
              "      <td>26980.871860</td>\n",
              "      <td>NaN</td>\n",
              "      <td>1.685217e+12</td>\n",
              "      <td>NaN</td>\n",
              "      <td>670.500559</td>\n",
              "      <td>NaN</td>\n",
              "    </tr>\n",
              "    <tr>\n",
              "      <th>2011-06-06</th>\n",
              "      <td>BAJFINANCE</td>\n",
              "      <td>EQ</td>\n",
              "      <td>625.00</td>\n",
              "      <td>620.00</td>\n",
              "      <td>641.00</td>\n",
              "      <td>611.35</td>\n",
              "      <td>611.35</td>\n",
              "      <td>614.00</td>\n",
              "      <td>616.03</td>\n",
              "      <td>5446</td>\n",
              "      <td>3.354910e+11</td>\n",
              "      <td>268.0</td>\n",
              "      <td>4312.0</td>\n",
              "      <td>0.7918</td>\n",
              "      <td>639.233333</td>\n",
              "      <td>NaN</td>\n",
              "      <td>617.116667</td>\n",
              "      <td>NaN</td>\n",
              "      <td>19880.666667</td>\n",
              "      <td>NaN</td>\n",
              "      <td>1.242081e+12</td>\n",
              "      <td>NaN</td>\n",
              "      <td>278.333333</td>\n",
              "      <td>NaN</td>\n",
              "      <td>1.625833</td>\n",
              "      <td>NaN</td>\n",
              "      <td>4.994080</td>\n",
              "      <td>NaN</td>\n",
              "      <td>27352.695339</td>\n",
              "      <td>NaN</td>\n",
              "      <td>1.710136e+12</td>\n",
              "      <td>NaN</td>\n",
              "      <td>148.769396</td>\n",
              "      <td>NaN</td>\n",
              "    </tr>\n",
              "    <tr>\n",
              "      <th>2011-06-07</th>\n",
              "      <td>BAJFINANCE</td>\n",
              "      <td>EQ</td>\n",
              "      <td>614.00</td>\n",
              "      <td>604.00</td>\n",
              "      <td>623.95</td>\n",
              "      <td>604.00</td>\n",
              "      <td>619.90</td>\n",
              "      <td>619.15</td>\n",
              "      <td>617.73</td>\n",
              "      <td>5991</td>\n",
              "      <td>3.700840e+11</td>\n",
              "      <td>273.0</td>\n",
              "      <td>4073.0</td>\n",
              "      <td>0.6799</td>\n",
              "      <td>634.250000</td>\n",
              "      <td>NaN</td>\n",
              "      <td>611.783333</td>\n",
              "      <td>NaN</td>\n",
              "      <td>20954.666667</td>\n",
              "      <td>NaN</td>\n",
              "      <td>1.306735e+12</td>\n",
              "      <td>NaN</td>\n",
              "      <td>225.333333</td>\n",
              "      <td>NaN</td>\n",
              "      <td>9.062422</td>\n",
              "      <td>NaN</td>\n",
              "      <td>8.008797</td>\n",
              "      <td>NaN</td>\n",
              "      <td>26391.221653</td>\n",
              "      <td>NaN</td>\n",
              "      <td>1.652377e+12</td>\n",
              "      <td>NaN</td>\n",
              "      <td>78.270897</td>\n",
              "      <td>NaN</td>\n",
              "    </tr>\n",
              "  </tbody>\n",
              "</table>\n",
              "</div>"
            ],
            "text/plain": [
              "                Symbol Series  ...  Tradesrolling_std_3  Tradesrolling_std_7\n",
              "Date                           ...                                          \n",
              "2011-06-01  BAJFINANCE     EQ  ...                  NaN                  NaN\n",
              "2011-06-02  BAJFINANCE     EQ  ...                  NaN                  NaN\n",
              "2011-06-03  BAJFINANCE     EQ  ...           670.500559                  NaN\n",
              "2011-06-06  BAJFINANCE     EQ  ...           148.769396                  NaN\n",
              "2011-06-07  BAJFINANCE     EQ  ...            78.270897                  NaN\n",
              "\n",
              "[5 rows x 34 columns]"
            ]
          },
          "metadata": {},
          "execution_count": 21
        }
      ]
    },
    {
      "cell_type": "code",
      "metadata": {
        "colab": {
          "base_uri": "https://localhost:8080/"
        },
        "id": "yTvQEnQESTfP",
        "outputId": "9ff0fef1-5e62-444c-d1ab-a7191fd732af"
      },
      "source": [
        "data.columns"
      ],
      "execution_count": 22,
      "outputs": [
        {
          "output_type": "execute_result",
          "data": {
            "text/plain": [
              "Index(['Symbol', 'Series', 'Prev Close', 'Open', 'High', 'Low', 'Last',\n",
              "       'Close', 'VWAP', 'Volume', 'Turnover', 'Trades', 'Deliverable Volume',\n",
              "       '%Deliverble', 'Highrolling_mean_3', 'Highrolling_mean_7',\n",
              "       'Lowrolling_mean_3', 'Lowrolling_mean_7', 'Volumerolling_mean_3',\n",
              "       'Volumerolling_mean_7', 'Turnoverrolling_mean_3',\n",
              "       'Turnoverrolling_mean_7', 'Tradesrolling_mean_3',\n",
              "       'Tradesrolling_mean_7', 'Highrolling_std_3', 'Highrolling_std_7',\n",
              "       'Lowrolling_std_3', 'Lowrolling_std_7', 'Volumerolling_std_3',\n",
              "       'Volumerolling_std_7', 'Turnoverrolling_std_3', 'Turnoverrolling_std_7',\n",
              "       'Tradesrolling_std_3', 'Tradesrolling_std_7'],\n",
              "      dtype='object')"
            ]
          },
          "metadata": {},
          "execution_count": 22
        }
      ]
    },
    {
      "cell_type": "code",
      "metadata": {
        "colab": {
          "base_uri": "https://localhost:8080/"
        },
        "id": "QC_QTPmhSTh-",
        "outputId": "547d3097-1395-4e21-d295-05e363e8a24c"
      },
      "source": [
        "data.shape"
      ],
      "execution_count": 23,
      "outputs": [
        {
          "output_type": "execute_result",
          "data": {
            "text/plain": [
              "(2291, 34)"
            ]
          },
          "metadata": {},
          "execution_count": 23
        }
      ]
    },
    {
      "cell_type": "code",
      "metadata": {
        "colab": {
          "base_uri": "https://localhost:8080/"
        },
        "id": "RxTMHHfJSTk7",
        "outputId": "9cac259d-dbd9-4b23-9e5d-6660b45603ad"
      },
      "source": [
        "data.isna().sum()"
      ],
      "execution_count": 24,
      "outputs": [
        {
          "output_type": "execute_result",
          "data": {
            "text/plain": [
              "Symbol                    0\n",
              "Series                    0\n",
              "Prev Close                0\n",
              "Open                      0\n",
              "High                      0\n",
              "Low                       0\n",
              "Last                      0\n",
              "Close                     0\n",
              "VWAP                      0\n",
              "Volume                    0\n",
              "Turnover                  0\n",
              "Trades                    0\n",
              "Deliverable Volume        0\n",
              "%Deliverble               0\n",
              "Highrolling_mean_3        2\n",
              "Highrolling_mean_7        6\n",
              "Lowrolling_mean_3         2\n",
              "Lowrolling_mean_7         6\n",
              "Volumerolling_mean_3      2\n",
              "Volumerolling_mean_7      6\n",
              "Turnoverrolling_mean_3    2\n",
              "Turnoverrolling_mean_7    6\n",
              "Tradesrolling_mean_3      2\n",
              "Tradesrolling_mean_7      6\n",
              "Highrolling_std_3         2\n",
              "Highrolling_std_7         6\n",
              "Lowrolling_std_3          2\n",
              "Lowrolling_std_7          6\n",
              "Volumerolling_std_3       2\n",
              "Volumerolling_std_7       6\n",
              "Turnoverrolling_std_3     2\n",
              "Turnoverrolling_std_7     6\n",
              "Tradesrolling_std_3       2\n",
              "Tradesrolling_std_7       6\n",
              "dtype: int64"
            ]
          },
          "metadata": {},
          "execution_count": 24
        }
      ]
    },
    {
      "cell_type": "code",
      "metadata": {
        "id": "BnHHZExlSToW"
      },
      "source": [
        "data.dropna(inplace=True)"
      ],
      "execution_count": 25,
      "outputs": []
    },
    {
      "cell_type": "code",
      "metadata": {
        "colab": {
          "base_uri": "https://localhost:8080/",
          "height": 657
        },
        "id": "OCSHsV3pTbNL",
        "outputId": "5457d242-d4d4-4a8e-c2cf-c065a5ff9895"
      },
      "source": [
        "data"
      ],
      "execution_count": 26,
      "outputs": [
        {
          "output_type": "execute_result",
          "data": {
            "text/html": [
              "<div>\n",
              "<style scoped>\n",
              "    .dataframe tbody tr th:only-of-type {\n",
              "        vertical-align: middle;\n",
              "    }\n",
              "\n",
              "    .dataframe tbody tr th {\n",
              "        vertical-align: top;\n",
              "    }\n",
              "\n",
              "    .dataframe thead th {\n",
              "        text-align: right;\n",
              "    }\n",
              "</style>\n",
              "<table border=\"1\" class=\"dataframe\">\n",
              "  <thead>\n",
              "    <tr style=\"text-align: right;\">\n",
              "      <th></th>\n",
              "      <th>Symbol</th>\n",
              "      <th>Series</th>\n",
              "      <th>Prev Close</th>\n",
              "      <th>Open</th>\n",
              "      <th>High</th>\n",
              "      <th>Low</th>\n",
              "      <th>Last</th>\n",
              "      <th>Close</th>\n",
              "      <th>VWAP</th>\n",
              "      <th>Volume</th>\n",
              "      <th>Turnover</th>\n",
              "      <th>Trades</th>\n",
              "      <th>Deliverable Volume</th>\n",
              "      <th>%Deliverble</th>\n",
              "      <th>Highrolling_mean_3</th>\n",
              "      <th>Highrolling_mean_7</th>\n",
              "      <th>Lowrolling_mean_3</th>\n",
              "      <th>Lowrolling_mean_7</th>\n",
              "      <th>Volumerolling_mean_3</th>\n",
              "      <th>Volumerolling_mean_7</th>\n",
              "      <th>Turnoverrolling_mean_3</th>\n",
              "      <th>Turnoverrolling_mean_7</th>\n",
              "      <th>Tradesrolling_mean_3</th>\n",
              "      <th>Tradesrolling_mean_7</th>\n",
              "      <th>Highrolling_std_3</th>\n",
              "      <th>Highrolling_std_7</th>\n",
              "      <th>Lowrolling_std_3</th>\n",
              "      <th>Lowrolling_std_7</th>\n",
              "      <th>Volumerolling_std_3</th>\n",
              "      <th>Volumerolling_std_7</th>\n",
              "      <th>Turnoverrolling_std_3</th>\n",
              "      <th>Turnoverrolling_std_7</th>\n",
              "      <th>Tradesrolling_std_3</th>\n",
              "      <th>Tradesrolling_std_7</th>\n",
              "    </tr>\n",
              "    <tr>\n",
              "      <th>Date</th>\n",
              "      <th></th>\n",
              "      <th></th>\n",
              "      <th></th>\n",
              "      <th></th>\n",
              "      <th></th>\n",
              "      <th></th>\n",
              "      <th></th>\n",
              "      <th></th>\n",
              "      <th></th>\n",
              "      <th></th>\n",
              "      <th></th>\n",
              "      <th></th>\n",
              "      <th></th>\n",
              "      <th></th>\n",
              "      <th></th>\n",
              "      <th></th>\n",
              "      <th></th>\n",
              "      <th></th>\n",
              "      <th></th>\n",
              "      <th></th>\n",
              "      <th></th>\n",
              "      <th></th>\n",
              "      <th></th>\n",
              "      <th></th>\n",
              "      <th></th>\n",
              "      <th></th>\n",
              "      <th></th>\n",
              "      <th></th>\n",
              "      <th></th>\n",
              "      <th></th>\n",
              "      <th></th>\n",
              "      <th></th>\n",
              "      <th></th>\n",
              "      <th></th>\n",
              "    </tr>\n",
              "  </thead>\n",
              "  <tbody>\n",
              "    <tr>\n",
              "      <th>2011-06-09</th>\n",
              "      <td>BAJFINANCE</td>\n",
              "      <td>EQ</td>\n",
              "      <td>635.60</td>\n",
              "      <td>639.80</td>\n",
              "      <td>647.00</td>\n",
              "      <td>630.00</td>\n",
              "      <td>630.00</td>\n",
              "      <td>631.10</td>\n",
              "      <td>638.27</td>\n",
              "      <td>31252</td>\n",
              "      <td>1.994715e+12</td>\n",
              "      <td>894.0</td>\n",
              "      <td>18626.0</td>\n",
              "      <td>0.5960</td>\n",
              "      <td>638.650000</td>\n",
              "      <td>638.592857</td>\n",
              "      <td>612.666667</td>\n",
              "      <td>615.050000</td>\n",
              "      <td>2.136867e+04</td>\n",
              "      <td>1.866314e+04</td>\n",
              "      <td>1.356553e+12</td>\n",
              "      <td>1.175452e+12</td>\n",
              "      <td>682.666667</td>\n",
              "      <td>614.142857</td>\n",
              "      <td>12.769789</td>\n",
              "      <td>7.494911</td>\n",
              "      <td>15.011107</td>\n",
              "      <td>9.410145</td>\n",
              "      <td>1.349705e+04</td>\n",
              "      <td>1.837389e+04</td>\n",
              "      <td>8.665128e+11</td>\n",
              "      <td>1.155773e+12</td>\n",
              "      <td>354.841279</td>\n",
              "      <td>463.942320</td>\n",
              "    </tr>\n",
              "    <tr>\n",
              "      <th>2011-06-10</th>\n",
              "      <td>BAJFINANCE</td>\n",
              "      <td>EQ</td>\n",
              "      <td>631.10</td>\n",
              "      <td>641.85</td>\n",
              "      <td>648.25</td>\n",
              "      <td>618.55</td>\n",
              "      <td>621.10</td>\n",
              "      <td>622.20</td>\n",
              "      <td>634.16</td>\n",
              "      <td>30885</td>\n",
              "      <td>1.958588e+12</td>\n",
              "      <td>1360.0</td>\n",
              "      <td>12656.0</td>\n",
              "      <td>0.4098</td>\n",
              "      <td>646.750000</td>\n",
              "      <td>640.271429</td>\n",
              "      <td>617.516667</td>\n",
              "      <td>615.414286</td>\n",
              "      <td>2.966667e+04</td>\n",
              "      <td>2.209043e+04</td>\n",
              "      <td>1.886054e+12</td>\n",
              "      <td>1.393498e+12</td>\n",
              "      <td>1045.000000</td>\n",
              "      <td>606.142857</td>\n",
              "      <td>1.639360</td>\n",
              "      <td>8.227994</td>\n",
              "      <td>13.030765</td>\n",
              "      <td>9.501961</td>\n",
              "      <td>2.434971e+03</td>\n",
              "      <td>1.804733e+04</td>\n",
              "      <td>1.579562e+11</td>\n",
              "      <td>1.136003e+12</td>\n",
              "      <td>272.875429</td>\n",
              "      <td>448.020620</td>\n",
              "    </tr>\n",
              "    <tr>\n",
              "      <th>2011-06-13</th>\n",
              "      <td>BAJFINANCE</td>\n",
              "      <td>EQ</td>\n",
              "      <td>622.20</td>\n",
              "      <td>616.00</td>\n",
              "      <td>627.85</td>\n",
              "      <td>616.00</td>\n",
              "      <td>622.75</td>\n",
              "      <td>624.95</td>\n",
              "      <td>622.92</td>\n",
              "      <td>3981</td>\n",
              "      <td>2.479856e+11</td>\n",
              "      <td>250.0</td>\n",
              "      <td>1745.0</td>\n",
              "      <td>0.4383</td>\n",
              "      <td>641.033333</td>\n",
              "      <td>638.692857</td>\n",
              "      <td>621.516667</td>\n",
              "      <td>614.842857</td>\n",
              "      <td>2.203933e+04</td>\n",
              "      <td>2.226357e+04</td>\n",
              "      <td>1.400430e+12</td>\n",
              "      <td>1.403765e+12</td>\n",
              "      <td>834.666667</td>\n",
              "      <td>580.142857</td>\n",
              "      <td>11.434196</td>\n",
              "      <td>9.497080</td>\n",
              "      <td>7.456597</td>\n",
              "      <td>9.298317</td>\n",
              "      <td>1.564005e+04</td>\n",
              "      <td>1.783564e+04</td>\n",
              "      <td>9.982094e+11</td>\n",
              "      <td>1.123423e+12</td>\n",
              "      <td>557.373603</td>\n",
              "      <td>464.778596</td>\n",
              "    </tr>\n",
              "    <tr>\n",
              "      <th>2011-06-14</th>\n",
              "      <td>BAJFINANCE</td>\n",
              "      <td>EQ</td>\n",
              "      <td>624.95</td>\n",
              "      <td>625.00</td>\n",
              "      <td>628.95</td>\n",
              "      <td>619.95</td>\n",
              "      <td>621.20</td>\n",
              "      <td>622.10</td>\n",
              "      <td>625.35</td>\n",
              "      <td>5597</td>\n",
              "      <td>3.500088e+11</td>\n",
              "      <td>198.0</td>\n",
              "      <td>3717.0</td>\n",
              "      <td>0.6641</td>\n",
              "      <td>635.016667</td>\n",
              "      <td>637.428571</td>\n",
              "      <td>618.166667</td>\n",
              "      <td>614.835714</td>\n",
              "      <td>1.348767e+04</td>\n",
              "      <td>1.571643e+04</td>\n",
              "      <td>8.521943e+11</td>\n",
              "      <td>9.945331e+11</td>\n",
              "      <td>602.666667</td>\n",
              "      <td>589.142857</td>\n",
              "      <td>11.473593</td>\n",
              "      <td>10.198891</td>\n",
              "      <td>2.002707</td>\n",
              "      <td>9.293713</td>\n",
              "      <td>1.508818e+04</td>\n",
              "      <td>1.313947e+04</td>\n",
              "      <td>9.595224e+11</td>\n",
              "      <td>8.397765e+11</td>\n",
              "      <td>656.385050</td>\n",
              "      <td>455.234163</td>\n",
              "    </tr>\n",
              "    <tr>\n",
              "      <th>2011-06-15</th>\n",
              "      <td>BAJFINANCE</td>\n",
              "      <td>EQ</td>\n",
              "      <td>622.10</td>\n",
              "      <td>612.00</td>\n",
              "      <td>623.00</td>\n",
              "      <td>598.10</td>\n",
              "      <td>605.00</td>\n",
              "      <td>601.70</td>\n",
              "      <td>606.90</td>\n",
              "      <td>12590</td>\n",
              "      <td>7.640851e+11</td>\n",
              "      <td>481.0</td>\n",
              "      <td>9021.0</td>\n",
              "      <td>0.7165</td>\n",
              "      <td>626.600000</td>\n",
              "      <td>634.857143</td>\n",
              "      <td>611.350000</td>\n",
              "      <td>612.942857</td>\n",
              "      <td>7.389333e+03</td>\n",
              "      <td>1.673700e+04</td>\n",
              "      <td>4.540265e+11</td>\n",
              "      <td>1.055761e+12</td>\n",
              "      <td>309.666667</td>\n",
              "      <td>619.571429</td>\n",
              "      <td>3.165833</td>\n",
              "      <td>11.352292</td>\n",
              "      <td>11.643560</td>\n",
              "      <td>11.262712</td>\n",
              "      <td>4.575813e+03</td>\n",
              "      <td>1.246914e+04</td>\n",
              "      <td>2.733211e+11</td>\n",
              "      <td>7.983186e+11</td>\n",
              "      <td>150.639747</td>\n",
              "      <td>436.941971</td>\n",
              "    </tr>\n",
              "    <tr>\n",
              "      <th>...</th>\n",
              "      <td>...</td>\n",
              "      <td>...</td>\n",
              "      <td>...</td>\n",
              "      <td>...</td>\n",
              "      <td>...</td>\n",
              "      <td>...</td>\n",
              "      <td>...</td>\n",
              "      <td>...</td>\n",
              "      <td>...</td>\n",
              "      <td>...</td>\n",
              "      <td>...</td>\n",
              "      <td>...</td>\n",
              "      <td>...</td>\n",
              "      <td>...</td>\n",
              "      <td>...</td>\n",
              "      <td>...</td>\n",
              "      <td>...</td>\n",
              "      <td>...</td>\n",
              "      <td>...</td>\n",
              "      <td>...</td>\n",
              "      <td>...</td>\n",
              "      <td>...</td>\n",
              "      <td>...</td>\n",
              "      <td>...</td>\n",
              "      <td>...</td>\n",
              "      <td>...</td>\n",
              "      <td>...</td>\n",
              "      <td>...</td>\n",
              "      <td>...</td>\n",
              "      <td>...</td>\n",
              "      <td>...</td>\n",
              "      <td>...</td>\n",
              "      <td>...</td>\n",
              "      <td>...</td>\n",
              "    </tr>\n",
              "    <tr>\n",
              "      <th>2020-08-25</th>\n",
              "      <td>BAJFINANCE</td>\n",
              "      <td>EQ</td>\n",
              "      <td>3492.05</td>\n",
              "      <td>3525.00</td>\n",
              "      <td>3660.00</td>\n",
              "      <td>3510.00</td>\n",
              "      <td>3658.00</td>\n",
              "      <td>3642.90</td>\n",
              "      <td>3579.12</td>\n",
              "      <td>9854070</td>\n",
              "      <td>3.526895e+15</td>\n",
              "      <td>339815.0</td>\n",
              "      <td>1498309.0</td>\n",
              "      <td>0.1520</td>\n",
              "      <td>3538.333333</td>\n",
              "      <td>3475.992857</td>\n",
              "      <td>3430.350000</td>\n",
              "      <td>3389.157143</td>\n",
              "      <td>6.229009e+06</td>\n",
              "      <td>5.134360e+06</td>\n",
              "      <td>2.192348e+15</td>\n",
              "      <td>1.776493e+15</td>\n",
              "      <td>212607.666667</td>\n",
              "      <td>173809.285714</td>\n",
              "      <td>111.840660</td>\n",
              "      <td>89.327396</td>\n",
              "      <td>69.777271</td>\n",
              "      <td>61.471880</td>\n",
              "      <td>3.613401e+06</td>\n",
              "      <td>2.348888e+06</td>\n",
              "      <td>1.315344e+15</td>\n",
              "      <td>8.608028e+14</td>\n",
              "      <td>125273.490429</td>\n",
              "      <td>81831.863468</td>\n",
              "    </tr>\n",
              "    <tr>\n",
              "      <th>2020-08-26</th>\n",
              "      <td>BAJFINANCE</td>\n",
              "      <td>EQ</td>\n",
              "      <td>3642.90</td>\n",
              "      <td>3665.00</td>\n",
              "      <td>3707.00</td>\n",
              "      <td>3631.00</td>\n",
              "      <td>3638.20</td>\n",
              "      <td>3645.55</td>\n",
              "      <td>3668.17</td>\n",
              "      <td>6665336</td>\n",
              "      <td>2.444958e+15</td>\n",
              "      <td>213994.0</td>\n",
              "      <td>944373.0</td>\n",
              "      <td>0.1417</td>\n",
              "      <td>3627.333333</td>\n",
              "      <td>3519.921429</td>\n",
              "      <td>3514.016667</td>\n",
              "      <td>3434.671429</td>\n",
              "      <td>7.574994e+06</td>\n",
              "      <td>5.419319e+06</td>\n",
              "      <td>2.708305e+15</td>\n",
              "      <td>1.901918e+15</td>\n",
              "      <td>254151.666667</td>\n",
              "      <td>181048.285714</td>\n",
              "      <td>100.081633</td>\n",
              "      <td>116.819954</td>\n",
              "      <td>115.027609</td>\n",
              "      <td>100.638138</td>\n",
              "      <td>1.987080e+06</td>\n",
              "      <td>2.403611e+06</td>\n",
              "      <td>7.237865e+14</td>\n",
              "      <td>8.886997e+14</td>\n",
              "      <td>74234.798338</td>\n",
              "      <td>82982.637290</td>\n",
              "    </tr>\n",
              "    <tr>\n",
              "      <th>2020-08-27</th>\n",
              "      <td>BAJFINANCE</td>\n",
              "      <td>EQ</td>\n",
              "      <td>3645.55</td>\n",
              "      <td>3656.95</td>\n",
              "      <td>3668.40</td>\n",
              "      <td>3596.40</td>\n",
              "      <td>3636.00</td>\n",
              "      <td>3632.50</td>\n",
              "      <td>3631.13</td>\n",
              "      <td>4611132</td>\n",
              "      <td>1.674361e+15</td>\n",
              "      <td>162374.0</td>\n",
              "      <td>387513.0</td>\n",
              "      <td>0.0840</td>\n",
              "      <td>3678.466667</td>\n",
              "      <td>3552.842857</td>\n",
              "      <td>3579.133333</td>\n",
              "      <td>3467.500000</td>\n",
              "      <td>7.043513e+06</td>\n",
              "      <td>5.405723e+06</td>\n",
              "      <td>2.548738e+15</td>\n",
              "      <td>1.912267e+15</td>\n",
              "      <td>238727.666667</td>\n",
              "      <td>182218.571429</td>\n",
              "      <td>25.064982</td>\n",
              "      <td>122.216500</td>\n",
              "      <td>62.320569</td>\n",
              "      <td>111.614377</td>\n",
              "      <td>2.641848e+06</td>\n",
              "      <td>2.408580e+06</td>\n",
              "      <td>9.306171e+14</td>\n",
              "      <td>8.850381e+14</td>\n",
              "      <td>91269.616085</td>\n",
              "      <td>82597.470913</td>\n",
              "    </tr>\n",
              "    <tr>\n",
              "      <th>2020-08-28</th>\n",
              "      <td>BAJFINANCE</td>\n",
              "      <td>EQ</td>\n",
              "      <td>3632.50</td>\n",
              "      <td>3650.00</td>\n",
              "      <td>3688.00</td>\n",
              "      <td>3617.05</td>\n",
              "      <td>3672.05</td>\n",
              "      <td>3670.80</td>\n",
              "      <td>3652.77</td>\n",
              "      <td>4251575</td>\n",
              "      <td>1.553003e+15</td>\n",
              "      <td>137033.0</td>\n",
              "      <td>434147.0</td>\n",
              "      <td>0.1021</td>\n",
              "      <td>3687.800000</td>\n",
              "      <td>3584.700000</td>\n",
              "      <td>3614.816667</td>\n",
              "      <td>3498.364286</td>\n",
              "      <td>5.176014e+06</td>\n",
              "      <td>5.413219e+06</td>\n",
              "      <td>1.890774e+15</td>\n",
              "      <td>1.927855e+15</td>\n",
              "      <td>171133.666667</td>\n",
              "      <td>182354.571429</td>\n",
              "      <td>19.300777</td>\n",
              "      <td>124.544624</td>\n",
              "      <td>17.407781</td>\n",
              "      <td>119.736752</td>\n",
              "      <td>1.302259e+06</td>\n",
              "      <td>2.404277e+06</td>\n",
              "      <td>4.837586e+14</td>\n",
              "      <td>8.763315e+14</td>\n",
              "      <td>39221.138437</td>\n",
              "      <td>82509.579347</td>\n",
              "    </tr>\n",
              "    <tr>\n",
              "      <th>2020-08-31</th>\n",
              "      <td>BAJFINANCE</td>\n",
              "      <td>EQ</td>\n",
              "      <td>3670.80</td>\n",
              "      <td>3715.00</td>\n",
              "      <td>3749.85</td>\n",
              "      <td>3465.00</td>\n",
              "      <td>3478.50</td>\n",
              "      <td>3487.80</td>\n",
              "      <td>3602.93</td>\n",
              "      <td>8529788</td>\n",
              "      <td>3.073224e+15</td>\n",
              "      <td>293454.0</td>\n",
              "      <td>1321559.0</td>\n",
              "      <td>0.1549</td>\n",
              "      <td>3702.083333</td>\n",
              "      <td>3632.607143</td>\n",
              "      <td>3559.483333</td>\n",
              "      <td>3514.357143</td>\n",
              "      <td>5.797498e+06</td>\n",
              "      <td>6.106408e+06</td>\n",
              "      <td>2.100196e+15</td>\n",
              "      <td>2.188941e+15</td>\n",
              "      <td>197620.333333</td>\n",
              "      <td>206382.571429</td>\n",
              "      <td>42.512126</td>\n",
              "      <td>112.033479</td>\n",
              "      <td>82.473819</td>\n",
              "      <td>103.463256</td>\n",
              "      <td>2.373052e+06</td>\n",
              "      <td>2.517269e+06</td>\n",
              "      <td>8.448489e+14</td>\n",
              "      <td>9.107695e+14</td>\n",
              "      <td>83956.002289</td>\n",
              "      <td>87453.449690</td>\n",
              "    </tr>\n",
              "  </tbody>\n",
              "</table>\n",
              "<p>2285 rows × 34 columns</p>\n",
              "</div>"
            ],
            "text/plain": [
              "                Symbol Series  ...  Tradesrolling_std_3  Tradesrolling_std_7\n",
              "Date                           ...                                          \n",
              "2011-06-09  BAJFINANCE     EQ  ...           354.841279           463.942320\n",
              "2011-06-10  BAJFINANCE     EQ  ...           272.875429           448.020620\n",
              "2011-06-13  BAJFINANCE     EQ  ...           557.373603           464.778596\n",
              "2011-06-14  BAJFINANCE     EQ  ...           656.385050           455.234163\n",
              "2011-06-15  BAJFINANCE     EQ  ...           150.639747           436.941971\n",
              "...                ...    ...  ...                  ...                  ...\n",
              "2020-08-25  BAJFINANCE     EQ  ...        125273.490429         81831.863468\n",
              "2020-08-26  BAJFINANCE     EQ  ...         74234.798338         82982.637290\n",
              "2020-08-27  BAJFINANCE     EQ  ...         91269.616085         82597.470913\n",
              "2020-08-28  BAJFINANCE     EQ  ...         39221.138437         82509.579347\n",
              "2020-08-31  BAJFINANCE     EQ  ...         83956.002289         87453.449690\n",
              "\n",
              "[2285 rows x 34 columns]"
            ]
          },
          "metadata": {},
          "execution_count": 26
        }
      ]
    },
    {
      "cell_type": "code",
      "metadata": {
        "colab": {
          "base_uri": "https://localhost:8080/"
        },
        "id": "V6OMAt_vTbP_",
        "outputId": "b7c47817-902a-4371-e71c-cda76144478c"
      },
      "source": [
        "data.columns"
      ],
      "execution_count": 27,
      "outputs": [
        {
          "output_type": "execute_result",
          "data": {
            "text/plain": [
              "Index(['Symbol', 'Series', 'Prev Close', 'Open', 'High', 'Low', 'Last',\n",
              "       'Close', 'VWAP', 'Volume', 'Turnover', 'Trades', 'Deliverable Volume',\n",
              "       '%Deliverble', 'Highrolling_mean_3', 'Highrolling_mean_7',\n",
              "       'Lowrolling_mean_3', 'Lowrolling_mean_7', 'Volumerolling_mean_3',\n",
              "       'Volumerolling_mean_7', 'Turnoverrolling_mean_3',\n",
              "       'Turnoverrolling_mean_7', 'Tradesrolling_mean_3',\n",
              "       'Tradesrolling_mean_7', 'Highrolling_std_3', 'Highrolling_std_7',\n",
              "       'Lowrolling_std_3', 'Lowrolling_std_7', 'Volumerolling_std_3',\n",
              "       'Volumerolling_std_7', 'Turnoverrolling_std_3', 'Turnoverrolling_std_7',\n",
              "       'Tradesrolling_std_3', 'Tradesrolling_std_7'],\n",
              "      dtype='object')"
            ]
          },
          "metadata": {},
          "execution_count": 27
        }
      ]
    },
    {
      "cell_type": "code",
      "metadata": {
        "id": "TZWf5jBkTbSr"
      },
      "source": [
        "ind_features=['Highrolling_mean_3', 'Highrolling_mean_7',\n",
        "       'Lowrolling_mean_3', 'Lowrolling_mean_7', 'Volumerolling_mean_3',\n",
        "       'Volumerolling_mean_7', 'Turnoverrolling_mean_3',\n",
        "       'Turnoverrolling_mean_7', 'Tradesrolling_mean_3',\n",
        "       'Tradesrolling_mean_7', 'Highrolling_std_3', 'Highrolling_std_7',\n",
        "       'Lowrolling_std_3', 'Lowrolling_std_7', 'Volumerolling_std_3',\n",
        "       'Volumerolling_std_7', 'Turnoverrolling_std_3', 'Turnoverrolling_std_7',\n",
        "       'Tradesrolling_std_3', 'Tradesrolling_std_7']"
      ],
      "execution_count": 28,
      "outputs": []
    },
    {
      "cell_type": "code",
      "metadata": {
        "id": "unfqjKUcTbVl"
      },
      "source": [
        "training_data=data[0:1800]\n",
        "test_data=data[1800:]"
      ],
      "execution_count": 30,
      "outputs": []
    },
    {
      "cell_type": "code",
      "metadata": {
        "id": "CI-tD8RMTbX3"
      },
      "source": [
        "training_data=data[0:1800]\n"
      ],
      "execution_count": 31,
      "outputs": []
    },
    {
      "cell_type": "code",
      "metadata": {
        "colab": {
          "base_uri": "https://localhost:8080/"
        },
        "id": "GLgqbLoJTbbf",
        "outputId": "2d291c52-d6c3-4d67-8cc3-00c863e0aa04"
      },
      "source": [
        "!pip install pmdarima"
      ],
      "execution_count": 32,
      "outputs": [
        {
          "output_type": "stream",
          "name": "stdout",
          "text": [
            "Collecting pmdarima\n",
            "  Downloading pmdarima-1.8.4-cp37-cp37m-manylinux_2_17_x86_64.manylinux2014_x86_64.manylinux_2_24_x86_64.whl (1.4 MB)\n",
            "\u001b[?25l\r\u001b[K     |▎                               | 10 kB 20.9 MB/s eta 0:00:01\r\u001b[K     |▌                               | 20 kB 25.9 MB/s eta 0:00:01\r\u001b[K     |▊                               | 30 kB 31.1 MB/s eta 0:00:01\r\u001b[K     |█                               | 40 kB 34.3 MB/s eta 0:00:01\r\u001b[K     |█▏                              | 51 kB 36.2 MB/s eta 0:00:01\r\u001b[K     |█▍                              | 61 kB 31.5 MB/s eta 0:00:01\r\u001b[K     |█▋                              | 71 kB 25.3 MB/s eta 0:00:01\r\u001b[K     |██                              | 81 kB 25.9 MB/s eta 0:00:01\r\u001b[K     |██▏                             | 92 kB 26.3 MB/s eta 0:00:01\r\u001b[K     |██▍                             | 102 kB 26.2 MB/s eta 0:00:01\r\u001b[K     |██▋                             | 112 kB 26.2 MB/s eta 0:00:01\r\u001b[K     |██▉                             | 122 kB 26.2 MB/s eta 0:00:01\r\u001b[K     |███                             | 133 kB 26.2 MB/s eta 0:00:01\r\u001b[K     |███▎                            | 143 kB 26.2 MB/s eta 0:00:01\r\u001b[K     |███▌                            | 153 kB 26.2 MB/s eta 0:00:01\r\u001b[K     |███▉                            | 163 kB 26.2 MB/s eta 0:00:01\r\u001b[K     |████                            | 174 kB 26.2 MB/s eta 0:00:01\r\u001b[K     |████▎                           | 184 kB 26.2 MB/s eta 0:00:01\r\u001b[K     |████▌                           | 194 kB 26.2 MB/s eta 0:00:01\r\u001b[K     |████▊                           | 204 kB 26.2 MB/s eta 0:00:01\r\u001b[K     |█████                           | 215 kB 26.2 MB/s eta 0:00:01\r\u001b[K     |█████▏                          | 225 kB 26.2 MB/s eta 0:00:01\r\u001b[K     |█████▌                          | 235 kB 26.2 MB/s eta 0:00:01\r\u001b[K     |█████▊                          | 245 kB 26.2 MB/s eta 0:00:01\r\u001b[K     |██████                          | 256 kB 26.2 MB/s eta 0:00:01\r\u001b[K     |██████▏                         | 266 kB 26.2 MB/s eta 0:00:01\r\u001b[K     |██████▍                         | 276 kB 26.2 MB/s eta 0:00:01\r\u001b[K     |██████▋                         | 286 kB 26.2 MB/s eta 0:00:01\r\u001b[K     |██████▉                         | 296 kB 26.2 MB/s eta 0:00:01\r\u001b[K     |███████                         | 307 kB 26.2 MB/s eta 0:00:01\r\u001b[K     |███████▍                        | 317 kB 26.2 MB/s eta 0:00:01\r\u001b[K     |███████▋                        | 327 kB 26.2 MB/s eta 0:00:01\r\u001b[K     |███████▉                        | 337 kB 26.2 MB/s eta 0:00:01\r\u001b[K     |████████                        | 348 kB 26.2 MB/s eta 0:00:01\r\u001b[K     |████████▎                       | 358 kB 26.2 MB/s eta 0:00:01\r\u001b[K     |████████▌                       | 368 kB 26.2 MB/s eta 0:00:01\r\u001b[K     |████████▊                       | 378 kB 26.2 MB/s eta 0:00:01\r\u001b[K     |█████████                       | 389 kB 26.2 MB/s eta 0:00:01\r\u001b[K     |█████████▎                      | 399 kB 26.2 MB/s eta 0:00:01\r\u001b[K     |█████████▌                      | 409 kB 26.2 MB/s eta 0:00:01\r\u001b[K     |█████████▊                      | 419 kB 26.2 MB/s eta 0:00:01\r\u001b[K     |██████████                      | 430 kB 26.2 MB/s eta 0:00:01\r\u001b[K     |██████████▏                     | 440 kB 26.2 MB/s eta 0:00:01\r\u001b[K     |██████████▍                     | 450 kB 26.2 MB/s eta 0:00:01\r\u001b[K     |██████████▋                     | 460 kB 26.2 MB/s eta 0:00:01\r\u001b[K     |███████████                     | 471 kB 26.2 MB/s eta 0:00:01\r\u001b[K     |███████████▏                    | 481 kB 26.2 MB/s eta 0:00:01\r\u001b[K     |███████████▍                    | 491 kB 26.2 MB/s eta 0:00:01\r\u001b[K     |███████████▋                    | 501 kB 26.2 MB/s eta 0:00:01\r\u001b[K     |███████████▉                    | 512 kB 26.2 MB/s eta 0:00:01\r\u001b[K     |████████████                    | 522 kB 26.2 MB/s eta 0:00:01\r\u001b[K     |████████████▎                   | 532 kB 26.2 MB/s eta 0:00:01\r\u001b[K     |████████████▌                   | 542 kB 26.2 MB/s eta 0:00:01\r\u001b[K     |████████████▉                   | 552 kB 26.2 MB/s eta 0:00:01\r\u001b[K     |█████████████                   | 563 kB 26.2 MB/s eta 0:00:01\r\u001b[K     |█████████████▎                  | 573 kB 26.2 MB/s eta 0:00:01\r\u001b[K     |█████████████▌                  | 583 kB 26.2 MB/s eta 0:00:01\r\u001b[K     |█████████████▊                  | 593 kB 26.2 MB/s eta 0:00:01\r\u001b[K     |██████████████                  | 604 kB 26.2 MB/s eta 0:00:01\r\u001b[K     |██████████████▏                 | 614 kB 26.2 MB/s eta 0:00:01\r\u001b[K     |██████████████▍                 | 624 kB 26.2 MB/s eta 0:00:01\r\u001b[K     |██████████████▊                 | 634 kB 26.2 MB/s eta 0:00:01\r\u001b[K     |███████████████                 | 645 kB 26.2 MB/s eta 0:00:01\r\u001b[K     |███████████████▏                | 655 kB 26.2 MB/s eta 0:00:01\r\u001b[K     |███████████████▍                | 665 kB 26.2 MB/s eta 0:00:01\r\u001b[K     |███████████████▋                | 675 kB 26.2 MB/s eta 0:00:01\r\u001b[K     |███████████████▉                | 686 kB 26.2 MB/s eta 0:00:01\r\u001b[K     |████████████████                | 696 kB 26.2 MB/s eta 0:00:01\r\u001b[K     |████████████████▍               | 706 kB 26.2 MB/s eta 0:00:01\r\u001b[K     |████████████████▋               | 716 kB 26.2 MB/s eta 0:00:01\r\u001b[K     |████████████████▉               | 727 kB 26.2 MB/s eta 0:00:01\r\u001b[K     |█████████████████               | 737 kB 26.2 MB/s eta 0:00:01\r\u001b[K     |█████████████████▎              | 747 kB 26.2 MB/s eta 0:00:01\r\u001b[K     |█████████████████▌              | 757 kB 26.2 MB/s eta 0:00:01\r\u001b[K     |█████████████████▊              | 768 kB 26.2 MB/s eta 0:00:01\r\u001b[K     |██████████████████              | 778 kB 26.2 MB/s eta 0:00:01\r\u001b[K     |██████████████████▎             | 788 kB 26.2 MB/s eta 0:00:01\r\u001b[K     |██████████████████▌             | 798 kB 26.2 MB/s eta 0:00:01\r\u001b[K     |██████████████████▊             | 808 kB 26.2 MB/s eta 0:00:01\r\u001b[K     |███████████████████             | 819 kB 26.2 MB/s eta 0:00:01\r\u001b[K     |███████████████████▏            | 829 kB 26.2 MB/s eta 0:00:01\r\u001b[K     |███████████████████▍            | 839 kB 26.2 MB/s eta 0:00:01\r\u001b[K     |███████████████████▋            | 849 kB 26.2 MB/s eta 0:00:01\r\u001b[K     |███████████████████▉            | 860 kB 26.2 MB/s eta 0:00:01\r\u001b[K     |████████████████████▏           | 870 kB 26.2 MB/s eta 0:00:01\r\u001b[K     |████████████████████▍           | 880 kB 26.2 MB/s eta 0:00:01\r\u001b[K     |████████████████████▋           | 890 kB 26.2 MB/s eta 0:00:01\r\u001b[K     |████████████████████▉           | 901 kB 26.2 MB/s eta 0:00:01\r\u001b[K     |█████████████████████           | 911 kB 26.2 MB/s eta 0:00:01\r\u001b[K     |█████████████████████▎          | 921 kB 26.2 MB/s eta 0:00:01\r\u001b[K     |█████████████████████▌          | 931 kB 26.2 MB/s eta 0:00:01\r\u001b[K     |█████████████████████▉          | 942 kB 26.2 MB/s eta 0:00:01\r\u001b[K     |██████████████████████          | 952 kB 26.2 MB/s eta 0:00:01\r\u001b[K     |██████████████████████▎         | 962 kB 26.2 MB/s eta 0:00:01\r\u001b[K     |██████████████████████▌         | 972 kB 26.2 MB/s eta 0:00:01\r\u001b[K     |██████████████████████▊         | 983 kB 26.2 MB/s eta 0:00:01\r\u001b[K     |███████████████████████         | 993 kB 26.2 MB/s eta 0:00:01\r\u001b[K     |███████████████████████▏        | 1.0 MB 26.2 MB/s eta 0:00:01\r\u001b[K     |███████████████████████▍        | 1.0 MB 26.2 MB/s eta 0:00:01\r\u001b[K     |███████████████████████▊        | 1.0 MB 26.2 MB/s eta 0:00:01\r\u001b[K     |████████████████████████        | 1.0 MB 26.2 MB/s eta 0:00:01\r\u001b[K     |████████████████████████▏       | 1.0 MB 26.2 MB/s eta 0:00:01\r\u001b[K     |████████████████████████▍       | 1.1 MB 26.2 MB/s eta 0:00:01\r\u001b[K     |████████████████████████▋       | 1.1 MB 26.2 MB/s eta 0:00:01\r\u001b[K     |████████████████████████▉       | 1.1 MB 26.2 MB/s eta 0:00:01\r\u001b[K     |█████████████████████████       | 1.1 MB 26.2 MB/s eta 0:00:01\r\u001b[K     |█████████████████████████▎      | 1.1 MB 26.2 MB/s eta 0:00:01\r\u001b[K     |█████████████████████████▋      | 1.1 MB 26.2 MB/s eta 0:00:01\r\u001b[K     |█████████████████████████▉      | 1.1 MB 26.2 MB/s eta 0:00:01\r\u001b[K     |██████████████████████████      | 1.1 MB 26.2 MB/s eta 0:00:01\r\u001b[K     |██████████████████████████▎     | 1.1 MB 26.2 MB/s eta 0:00:01\r\u001b[K     |██████████████████████████▌     | 1.1 MB 26.2 MB/s eta 0:00:01\r\u001b[K     |██████████████████████████▊     | 1.2 MB 26.2 MB/s eta 0:00:01\r\u001b[K     |███████████████████████████     | 1.2 MB 26.2 MB/s eta 0:00:01\r\u001b[K     |███████████████████████████▎    | 1.2 MB 26.2 MB/s eta 0:00:01\r\u001b[K     |███████████████████████████▌    | 1.2 MB 26.2 MB/s eta 0:00:01\r\u001b[K     |███████████████████████████▊    | 1.2 MB 26.2 MB/s eta 0:00:01\r\u001b[K     |████████████████████████████    | 1.2 MB 26.2 MB/s eta 0:00:01\r\u001b[K     |████████████████████████████▏   | 1.2 MB 26.2 MB/s eta 0:00:01\r\u001b[K     |████████████████████████████▍   | 1.2 MB 26.2 MB/s eta 0:00:01\r\u001b[K     |████████████████████████████▋   | 1.2 MB 26.2 MB/s eta 0:00:01\r\u001b[K     |████████████████████████████▉   | 1.2 MB 26.2 MB/s eta 0:00:01\r\u001b[K     |█████████████████████████████▏  | 1.3 MB 26.2 MB/s eta 0:00:01\r\u001b[K     |█████████████████████████████▍  | 1.3 MB 26.2 MB/s eta 0:00:01\r\u001b[K     |█████████████████████████████▋  | 1.3 MB 26.2 MB/s eta 0:00:01\r\u001b[K     |█████████████████████████████▉  | 1.3 MB 26.2 MB/s eta 0:00:01\r\u001b[K     |██████████████████████████████  | 1.3 MB 26.2 MB/s eta 0:00:01\r\u001b[K     |██████████████████████████████▎ | 1.3 MB 26.2 MB/s eta 0:00:01\r\u001b[K     |██████████████████████████████▌ | 1.3 MB 26.2 MB/s eta 0:00:01\r\u001b[K     |██████████████████████████████▊ | 1.3 MB 26.2 MB/s eta 0:00:01\r\u001b[K     |███████████████████████████████ | 1.3 MB 26.2 MB/s eta 0:00:01\r\u001b[K     |███████████████████████████████▎| 1.4 MB 26.2 MB/s eta 0:00:01\r\u001b[K     |███████████████████████████████▌| 1.4 MB 26.2 MB/s eta 0:00:01\r\u001b[K     |███████████████████████████████▊| 1.4 MB 26.2 MB/s eta 0:00:01\r\u001b[K     |████████████████████████████████| 1.4 MB 26.2 MB/s eta 0:00:01\r\u001b[K     |████████████████████████████████| 1.4 MB 26.2 MB/s \n",
            "\u001b[?25hRequirement already satisfied: scipy>=1.3.2 in /usr/local/lib/python3.7/dist-packages (from pmdarima) (1.4.1)\n",
            "Requirement already satisfied: setuptools!=50.0.0,>=38.6.0 in /usr/local/lib/python3.7/dist-packages (from pmdarima) (57.4.0)\n",
            "Requirement already satisfied: urllib3 in /usr/local/lib/python3.7/dist-packages (from pmdarima) (1.24.3)\n",
            "Requirement already satisfied: joblib>=0.11 in /usr/local/lib/python3.7/dist-packages (from pmdarima) (1.1.0)\n",
            "Collecting statsmodels!=0.12.0,>=0.11\n",
            "  Downloading statsmodels-0.13.0-cp37-cp37m-manylinux_2_17_x86_64.manylinux2014_x86_64.whl (9.8 MB)\n",
            "\u001b[K     |████████████████████████████████| 9.8 MB 30.7 MB/s \n",
            "\u001b[?25hRequirement already satisfied: Cython!=0.29.18,>=0.29 in /usr/local/lib/python3.7/dist-packages (from pmdarima) (0.29.24)\n",
            "Requirement already satisfied: pandas>=0.19 in /usr/local/lib/python3.7/dist-packages (from pmdarima) (1.1.5)\n",
            "Requirement already satisfied: scikit-learn>=0.22 in /usr/local/lib/python3.7/dist-packages (from pmdarima) (0.22.2.post1)\n",
            "Requirement already satisfied: numpy>=1.19.3 in /usr/local/lib/python3.7/dist-packages (from pmdarima) (1.19.5)\n",
            "Requirement already satisfied: python-dateutil>=2.7.3 in /usr/local/lib/python3.7/dist-packages (from pandas>=0.19->pmdarima) (2.8.2)\n",
            "Requirement already satisfied: pytz>=2017.2 in /usr/local/lib/python3.7/dist-packages (from pandas>=0.19->pmdarima) (2018.9)\n",
            "Requirement already satisfied: six>=1.5 in /usr/local/lib/python3.7/dist-packages (from python-dateutil>=2.7.3->pandas>=0.19->pmdarima) (1.15.0)\n",
            "Requirement already satisfied: patsy>=0.5.2 in /usr/local/lib/python3.7/dist-packages (from statsmodels!=0.12.0,>=0.11->pmdarima) (0.5.2)\n",
            "Installing collected packages: statsmodels, pmdarima\n",
            "  Attempting uninstall: statsmodels\n",
            "    Found existing installation: statsmodels 0.10.2\n",
            "    Uninstalling statsmodels-0.10.2:\n",
            "      Successfully uninstalled statsmodels-0.10.2\n",
            "Successfully installed pmdarima-1.8.4 statsmodels-0.13.0\n"
          ]
        }
      ]
    },
    {
      "cell_type": "code",
      "metadata": {
        "id": "P8EiKpJjUen8"
      },
      "source": [
        "from pmdarima import auto_arima"
      ],
      "execution_count": 33,
      "outputs": []
    },
    {
      "cell_type": "code",
      "metadata": {
        "id": "5BI-IsyKUeqx"
      },
      "source": [
        "\n",
        "import warnings\n",
        "warnings.filterwarnings('ignore')\n"
      ],
      "execution_count": 34,
      "outputs": []
    },
    {
      "cell_type": "code",
      "metadata": {
        "colab": {
          "base_uri": "https://localhost:8080/"
        },
        "id": "p9oAA_s6Uetg",
        "outputId": "01b11b22-20e2-466f-b56a-c5529158afc5"
      },
      "source": [
        "model=auto_arima(y=training_data['VWAP'],exogenous=training_data[ind_features],trace=True)"
      ],
      "execution_count": 35,
      "outputs": [
        {
          "output_type": "stream",
          "name": "stdout",
          "text": [
            "Performing stepwise search to minimize aic\n",
            " ARIMA(2,0,2)(0,0,0)[0] intercept   : AIC=20931.529, Time=6.52 sec\n",
            " ARIMA(0,0,0)(0,0,0)[0] intercept   : AIC=20925.219, Time=3.35 sec\n",
            " ARIMA(1,0,0)(0,0,0)[0] intercept   : AIC=20926.342, Time=3.50 sec\n",
            " ARIMA(0,0,1)(0,0,0)[0] intercept   : AIC=20926.314, Time=5.29 sec\n",
            " ARIMA(0,0,0)(0,0,0)[0]             : AIC=32616.913, Time=3.12 sec\n",
            " ARIMA(1,0,1)(0,0,0)[0] intercept   : AIC=20929.229, Time=5.12 sec\n",
            "\n",
            "Best model:  ARIMA(0,0,0)(0,0,0)[0] intercept\n",
            "Total fit time: 26.966 seconds\n"
          ]
        }
      ]
    },
    {
      "cell_type": "code",
      "metadata": {
        "colab": {
          "base_uri": "https://localhost:8080/"
        },
        "id": "ZYS1MsFOUewT",
        "outputId": "285ef166-1c71-48b0-e503-a439c16104ca"
      },
      "source": [
        "model.fit(training_data['VWAP'],training_data[ind_features])\n"
      ],
      "execution_count": 36,
      "outputs": [
        {
          "output_type": "execute_result",
          "data": {
            "text/plain": [
              "ARIMA(maxiter=50, method='lbfgs', order=(0, 0, 0), out_of_sample_size=0,\n",
              "      scoring='mse', scoring_args={}, seasonal_order=(0, 0, 0, 0),\n",
              "      start_params=None, suppress_warnings=True, trend=None,\n",
              "      with_intercept=True)"
            ]
          },
          "metadata": {},
          "execution_count": 36
        }
      ]
    },
    {
      "cell_type": "code",
      "metadata": {
        "id": "Wab-rpPDUezX"
      },
      "source": [
        "forecast=model.predict(n_periods=len(test_data), exogenous=test_data[ind_features])"
      ],
      "execution_count": 37,
      "outputs": []
    },
    {
      "cell_type": "code",
      "metadata": {
        "id": "VASCPOqXUe2f"
      },
      "source": [
        "test_data['Forecast_ARIMA']=forecast"
      ],
      "execution_count": 38,
      "outputs": []
    },
    {
      "cell_type": "code",
      "metadata": {
        "colab": {
          "base_uri": "https://localhost:8080/",
          "height": 459
        },
        "id": "n3gw20lXXMOh",
        "outputId": "0e8a512e-ee02-48d1-b284-50154cccb12c"
      },
      "source": [
        "test_data[['VWAP','Forecast_ARIMA']].plot(figsize=(14,7))"
      ],
      "execution_count": 39,
      "outputs": [
        {
          "output_type": "execute_result",
          "data": {
            "text/plain": [
              "<matplotlib.axes._subplots.AxesSubplot at 0x7f65a3b27cd0>"
            ]
          },
          "metadata": {},
          "execution_count": 39
        },
        {
          "output_type": "display_data",
          "data": {
            "image/png": "[encoded data removed]",
            "text/plain": [
              "<Figure size 1008x504 with 1 Axes>"
            ]
          },
          "metadata": {
            "needs_background": "light"
          }
        }
      ]
    },
    {
      "cell_type": "code",
      "metadata": {
        "id": "aaLCQsSdXMVj"
      },
      "source": [
        "from sklearn.metrics import mean_absolute_error, mean_squared_error"
      ],
      "execution_count": 40,
      "outputs": []
    },
    {
      "cell_type": "code",
      "metadata": {
        "colab": {
          "base_uri": "https://localhost:8080/"
        },
        "id": "HXXBT7F3XMYP",
        "outputId": "da004aac-2016-42b2-c425-753e727f193b"
      },
      "source": [
        "np.sqrt(mean_squared_error(test_data['VWAP'],test_data['Forecast_ARIMA']))"
      ],
      "execution_count": 41,
      "outputs": [
        {
          "output_type": "execute_result",
          "data": {
            "text/plain": [
              "187.69412121130966"
            ]
          },
          "metadata": {},
          "execution_count": 41
        }
      ]
    },
    {
      "cell_type": "code",
      "metadata": {
        "colab": {
          "base_uri": "https://localhost:8080/"
        },
        "id": "WGqWtKoHXMfy",
        "outputId": "9a7507af-7d86-4a14-9776-64219cc2d5a0"
      },
      "source": [
        "mean_absolute_error(test_data['VWAP'],test_data['Forecast_ARIMA'])"
      ],
      "execution_count": 44,
      "outputs": [
        {
          "output_type": "execute_result",
          "data": {
            "text/plain": [
              "124.59478744581278"
            ]
          },
          "metadata": {},
          "execution_count": 44
        }
      ]
    },
    {
      "cell_type": "code",
      "metadata": {
        "id": "sVpmpl3FXMjB"
      },
      "source": [
        ""
      ],
      "execution_count": null,
      "outputs": []
    }
  ]
}